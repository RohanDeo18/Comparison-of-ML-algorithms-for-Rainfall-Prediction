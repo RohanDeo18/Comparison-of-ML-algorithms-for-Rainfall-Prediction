{
  "nbformat": 4,
  "nbformat_minor": 0,
  "metadata": {
    "colab": {
      "name": "Minor Project:Predict Rain in Australia.ipynb",
      "provenance": [],
      "collapsed_sections": [],
      "authorship_tag": "ABX9TyO/w0TvPZidz0idm17WI/YF",
      "include_colab_link": true
    },
    "kernelspec": {
      "name": "python3",
      "display_name": "Python 3"
    }
  },
  "cells": [
    {
      "cell_type": "markdown",
      "metadata": {
        "id": "view-in-github",
        "colab_type": "text"
      },
      "source": [
        "<a href=\"https://colab.research.google.com/github/RohanDeo18/SmartKnower-ML-DS/blob/master/Minor_Project_Predict_Rain_in_Australia.ipynb\" target=\"_parent\"><img src=\"https://colab.research.google.com/assets/colab-badge.svg\" alt=\"Open In Colab\"/></a>"
      ]
    },
    {
      "cell_type": "markdown",
      "metadata": {
        "id": "t-xGOfuZG-5j",
        "colab_type": "text"
      },
      "source": [
        "Dataset used: Rain in Australia (Predict rain tomorrow in Australia)\n",
        "\n"
      ]
    },
    {
      "cell_type": "markdown",
      "metadata": {
        "id": "5vlg_Lt4GH6e",
        "colab_type": "text"
      },
      "source": [
        "This dataset contains about 10 years of daily weather observations from numerous Australian weather stations.\n",
        "\n",
        "The target RainTomorrow means: Did it rain the next day? Yes or No.\n",
        "\n",
        "Hence, it can be described as a Binary Classification problem: RainTomorrow (Yes/No?)."
      ]
    },
    {
      "cell_type": "code",
      "metadata": {
        "id": "gohN2zBoBzn4",
        "colab_type": "code",
        "colab": {
          "base_uri": "https://localhost:8080/",
          "height": 72
        },
        "outputId": "144e47cc-0dc0-426e-fa5b-ccec3edc2783"
      },
      "source": [
        "import numpy as np\n",
        "import pandas as pd\n",
        "import seaborn as sns\n",
        "import sklearn\n",
        "import matplotlib.pyplot as plt\n",
        "import time"
      ],
      "execution_count": 1,
      "outputs": [
        {
          "output_type": "stream",
          "text": [
            "/usr/local/lib/python3.6/dist-packages/statsmodels/tools/_testing.py:19: FutureWarning: pandas.util.testing is deprecated. Use the functions in the public API at pandas.testing instead.\n",
            "  import pandas.util.testing as tm\n"
          ],
          "name": "stderr"
        }
      ]
    },
    {
      "cell_type": "code",
      "metadata": {
        "id": "epoZqaI5F2c0",
        "colab_type": "code",
        "colab": {
          "base_uri": "https://localhost:8080/",
          "height": 309
        },
        "outputId": "c1988e91-487a-4ecd-f386-317cbcb7d951"
      },
      "source": [
        "df = pd.read_csv('weatherAUS.csv')\n",
        "df.head()"
      ],
      "execution_count": 2,
      "outputs": [
        {
          "output_type": "execute_result",
          "data": {
            "text/html": [
              "<div>\n",
              "<style scoped>\n",
              "    .dataframe tbody tr th:only-of-type {\n",
              "        vertical-align: middle;\n",
              "    }\n",
              "\n",
              "    .dataframe tbody tr th {\n",
              "        vertical-align: top;\n",
              "    }\n",
              "\n",
              "    .dataframe thead th {\n",
              "        text-align: right;\n",
              "    }\n",
              "</style>\n",
              "<table border=\"1\" class=\"dataframe\">\n",
              "  <thead>\n",
              "    <tr style=\"text-align: right;\">\n",
              "      <th></th>\n",
              "      <th>Date</th>\n",
              "      <th>Location</th>\n",
              "      <th>MinTemp</th>\n",
              "      <th>MaxTemp</th>\n",
              "      <th>Rainfall</th>\n",
              "      <th>Evaporation</th>\n",
              "      <th>Sunshine</th>\n",
              "      <th>WindGustDir</th>\n",
              "      <th>WindGustSpeed</th>\n",
              "      <th>WindDir9am</th>\n",
              "      <th>WindDir3pm</th>\n",
              "      <th>WindSpeed9am</th>\n",
              "      <th>WindSpeed3pm</th>\n",
              "      <th>Humidity9am</th>\n",
              "      <th>Humidity3pm</th>\n",
              "      <th>Pressure9am</th>\n",
              "      <th>Pressure3pm</th>\n",
              "      <th>Cloud9am</th>\n",
              "      <th>Cloud3pm</th>\n",
              "      <th>Temp9am</th>\n",
              "      <th>Temp3pm</th>\n",
              "      <th>RainToday</th>\n",
              "      <th>RISK_MM</th>\n",
              "      <th>RainTomorrow</th>\n",
              "    </tr>\n",
              "  </thead>\n",
              "  <tbody>\n",
              "    <tr>\n",
              "      <th>0</th>\n",
              "      <td>2008-12-01</td>\n",
              "      <td>Albury</td>\n",
              "      <td>13.4</td>\n",
              "      <td>22.9</td>\n",
              "      <td>0.6</td>\n",
              "      <td>NaN</td>\n",
              "      <td>NaN</td>\n",
              "      <td>W</td>\n",
              "      <td>44.0</td>\n",
              "      <td>W</td>\n",
              "      <td>WNW</td>\n",
              "      <td>20.0</td>\n",
              "      <td>24.0</td>\n",
              "      <td>71.0</td>\n",
              "      <td>22.0</td>\n",
              "      <td>1007.7</td>\n",
              "      <td>1007.1</td>\n",
              "      <td>8.0</td>\n",
              "      <td>NaN</td>\n",
              "      <td>16.9</td>\n",
              "      <td>21.8</td>\n",
              "      <td>No</td>\n",
              "      <td>0.0</td>\n",
              "      <td>No</td>\n",
              "    </tr>\n",
              "    <tr>\n",
              "      <th>1</th>\n",
              "      <td>2008-12-02</td>\n",
              "      <td>Albury</td>\n",
              "      <td>7.4</td>\n",
              "      <td>25.1</td>\n",
              "      <td>0.0</td>\n",
              "      <td>NaN</td>\n",
              "      <td>NaN</td>\n",
              "      <td>WNW</td>\n",
              "      <td>44.0</td>\n",
              "      <td>NNW</td>\n",
              "      <td>WSW</td>\n",
              "      <td>4.0</td>\n",
              "      <td>22.0</td>\n",
              "      <td>44.0</td>\n",
              "      <td>25.0</td>\n",
              "      <td>1010.6</td>\n",
              "      <td>1007.8</td>\n",
              "      <td>NaN</td>\n",
              "      <td>NaN</td>\n",
              "      <td>17.2</td>\n",
              "      <td>24.3</td>\n",
              "      <td>No</td>\n",
              "      <td>0.0</td>\n",
              "      <td>No</td>\n",
              "    </tr>\n",
              "    <tr>\n",
              "      <th>2</th>\n",
              "      <td>2008-12-03</td>\n",
              "      <td>Albury</td>\n",
              "      <td>12.9</td>\n",
              "      <td>25.7</td>\n",
              "      <td>0.0</td>\n",
              "      <td>NaN</td>\n",
              "      <td>NaN</td>\n",
              "      <td>WSW</td>\n",
              "      <td>46.0</td>\n",
              "      <td>W</td>\n",
              "      <td>WSW</td>\n",
              "      <td>19.0</td>\n",
              "      <td>26.0</td>\n",
              "      <td>38.0</td>\n",
              "      <td>30.0</td>\n",
              "      <td>1007.6</td>\n",
              "      <td>1008.7</td>\n",
              "      <td>NaN</td>\n",
              "      <td>2.0</td>\n",
              "      <td>21.0</td>\n",
              "      <td>23.2</td>\n",
              "      <td>No</td>\n",
              "      <td>0.0</td>\n",
              "      <td>No</td>\n",
              "    </tr>\n",
              "    <tr>\n",
              "      <th>3</th>\n",
              "      <td>2008-12-04</td>\n",
              "      <td>Albury</td>\n",
              "      <td>9.2</td>\n",
              "      <td>28.0</td>\n",
              "      <td>0.0</td>\n",
              "      <td>NaN</td>\n",
              "      <td>NaN</td>\n",
              "      <td>NE</td>\n",
              "      <td>24.0</td>\n",
              "      <td>SE</td>\n",
              "      <td>E</td>\n",
              "      <td>11.0</td>\n",
              "      <td>9.0</td>\n",
              "      <td>45.0</td>\n",
              "      <td>16.0</td>\n",
              "      <td>1017.6</td>\n",
              "      <td>1012.8</td>\n",
              "      <td>NaN</td>\n",
              "      <td>NaN</td>\n",
              "      <td>18.1</td>\n",
              "      <td>26.5</td>\n",
              "      <td>No</td>\n",
              "      <td>1.0</td>\n",
              "      <td>No</td>\n",
              "    </tr>\n",
              "    <tr>\n",
              "      <th>4</th>\n",
              "      <td>2008-12-05</td>\n",
              "      <td>Albury</td>\n",
              "      <td>17.5</td>\n",
              "      <td>32.3</td>\n",
              "      <td>1.0</td>\n",
              "      <td>NaN</td>\n",
              "      <td>NaN</td>\n",
              "      <td>W</td>\n",
              "      <td>41.0</td>\n",
              "      <td>ENE</td>\n",
              "      <td>NW</td>\n",
              "      <td>7.0</td>\n",
              "      <td>20.0</td>\n",
              "      <td>82.0</td>\n",
              "      <td>33.0</td>\n",
              "      <td>1010.8</td>\n",
              "      <td>1006.0</td>\n",
              "      <td>7.0</td>\n",
              "      <td>8.0</td>\n",
              "      <td>17.8</td>\n",
              "      <td>29.7</td>\n",
              "      <td>No</td>\n",
              "      <td>0.2</td>\n",
              "      <td>No</td>\n",
              "    </tr>\n",
              "  </tbody>\n",
              "</table>\n",
              "</div>"
            ],
            "text/plain": [
              "         Date Location  MinTemp  ...  RainToday  RISK_MM  RainTomorrow\n",
              "0  2008-12-01   Albury     13.4  ...         No      0.0            No\n",
              "1  2008-12-02   Albury      7.4  ...         No      0.0            No\n",
              "2  2008-12-03   Albury     12.9  ...         No      0.0            No\n",
              "3  2008-12-04   Albury      9.2  ...         No      1.0            No\n",
              "4  2008-12-05   Albury     17.5  ...         No      0.2            No\n",
              "\n",
              "[5 rows x 24 columns]"
            ]
          },
          "metadata": {
            "tags": []
          },
          "execution_count": 2
        }
      ]
    },
    {
      "cell_type": "code",
      "metadata": {
        "id": "04aN-QMTIAsm",
        "colab_type": "code",
        "colab": {
          "base_uri": "https://localhost:8080/",
          "height": 35
        },
        "outputId": "639a4612-c948-4a84-b2e6-c5cba76a8a69"
      },
      "source": [
        "print('Size of df :',df.shape)"
      ],
      "execution_count": 3,
      "outputs": [
        {
          "output_type": "stream",
          "text": [
            "Size of df : (142193, 24)\n"
          ],
          "name": "stdout"
        }
      ]
    },
    {
      "cell_type": "code",
      "metadata": {
        "id": "axVBhlAtLgK8",
        "colab_type": "code",
        "colab": {
          "base_uri": "https://localhost:8080/",
          "height": 260
        },
        "outputId": "7a620aaf-1b84-4972-c7f0-1c8697b4fec9"
      },
      "source": [
        "df.info"
      ],
      "execution_count": 4,
      "outputs": [
        {
          "output_type": "execute_result",
          "data": {
            "text/plain": [
              "<bound method DataFrame.info of               Date Location  MinTemp  ...  RainToday  RISK_MM  RainTomorrow\n",
              "0       2008-12-01   Albury     13.4  ...         No      0.0            No\n",
              "1       2008-12-02   Albury      7.4  ...         No      0.0            No\n",
              "2       2008-12-03   Albury     12.9  ...         No      0.0            No\n",
              "3       2008-12-04   Albury      9.2  ...         No      1.0            No\n",
              "4       2008-12-05   Albury     17.5  ...         No      0.2            No\n",
              "...            ...      ...      ...  ...        ...      ...           ...\n",
              "142188  2017-06-20    Uluru      3.5  ...         No      0.0            No\n",
              "142189  2017-06-21    Uluru      2.8  ...         No      0.0            No\n",
              "142190  2017-06-22    Uluru      3.6  ...         No      0.0            No\n",
              "142191  2017-06-23    Uluru      5.4  ...         No      0.0            No\n",
              "142192  2017-06-24    Uluru      7.8  ...         No      0.0            No\n",
              "\n",
              "[142193 rows x 24 columns]>"
            ]
          },
          "metadata": {
            "tags": []
          },
          "execution_count": 4
        }
      ]
    },
    {
      "cell_type": "code",
      "metadata": {
        "id": "zJkDqZN4Ma5B",
        "colab_type": "code",
        "colab": {
          "base_uri": "https://localhost:8080/",
          "height": 451
        },
        "outputId": "5e66bddd-9c64-4124-be9d-19d2c0634e10"
      },
      "source": [
        "# To check null values:\n",
        "df.isnull().sum()"
      ],
      "execution_count": 5,
      "outputs": [
        {
          "output_type": "execute_result",
          "data": {
            "text/plain": [
              "Date                 0\n",
              "Location             0\n",
              "MinTemp            637\n",
              "MaxTemp            322\n",
              "Rainfall          1406\n",
              "Evaporation      60843\n",
              "Sunshine         67816\n",
              "WindGustDir       9330\n",
              "WindGustSpeed     9270\n",
              "WindDir9am       10013\n",
              "WindDir3pm        3778\n",
              "WindSpeed9am      1348\n",
              "WindSpeed3pm      2630\n",
              "Humidity9am       1774\n",
              "Humidity3pm       3610\n",
              "Pressure9am      14014\n",
              "Pressure3pm      13981\n",
              "Cloud9am         53657\n",
              "Cloud3pm         57094\n",
              "Temp9am            904\n",
              "Temp3pm           2726\n",
              "RainToday         1406\n",
              "RISK_MM              0\n",
              "RainTomorrow         0\n",
              "dtype: int64"
            ]
          },
          "metadata": {
            "tags": []
          },
          "execution_count": 5
        }
      ]
    },
    {
      "cell_type": "code",
      "metadata": {
        "id": "K8XWRO_fMlBG",
        "colab_type": "code",
        "colab": {
          "base_uri": "https://localhost:8080/",
          "height": 35
        },
        "outputId": "60db22fa-1aef-4652-a64c-4be532570d8a"
      },
      "source": [
        "# We need to drop RISK_MM because we want to predict 'Rain Tomorrow' and RISK_MM can leak some info to our model\n",
        "# Also, we will drop the following columns:\n",
        "df = df.drop(columns=['Sunshine','Evaporation','Cloud3pm','Cloud9am','Location','RISK_MM'],axis=1)\n",
        "df.shape\n",
        "# Location is dropped because the location is Australia, not a specific location"
      ],
      "execution_count": 6,
      "outputs": [
        {
          "output_type": "execute_result",
          "data": {
            "text/plain": [
              "(142193, 18)"
            ]
          },
          "metadata": {
            "tags": []
          },
          "execution_count": 6
        }
      ]
    },
    {
      "cell_type": "code",
      "metadata": {
        "id": "5FydVvNzNg6a",
        "colab_type": "code",
        "colab": {}
      },
      "source": [
        "# To handle the null data\n",
        "df.dropna(axis=0, subset=['Rainfall'], inplace=True)\n",
        "df.fillna(method='ffill', inplace=True)"
      ],
      "execution_count": 7,
      "outputs": []
    },
    {
      "cell_type": "code",
      "metadata": {
        "id": "aMLPCxo_sNle",
        "colab_type": "code",
        "colab": {}
      },
      "source": [
        "# To convert yes and no to 1 and 0\n",
        "df.RainTomorrow.replace({'No':0, 'Yes':1}, inplace=True)\n",
        "df.RainToday.replace({'No':0, 'Yes':1}, inplace=True)"
      ],
      "execution_count": 8,
      "outputs": []
    },
    {
      "cell_type": "code",
      "metadata": {
        "id": "2HUz1qMgjbxA",
        "colab_type": "code",
        "colab": {
          "base_uri": "https://localhost:8080/",
          "height": 35
        },
        "outputId": "6d5e7ab7-fd93-43b4-bc48-c2ace19c0758"
      },
      "source": [
        "df['RainTomorrow'].isnull().sum()"
      ],
      "execution_count": 9,
      "outputs": [
        {
          "output_type": "execute_result",
          "data": {
            "text/plain": [
              "0"
            ]
          },
          "metadata": {
            "tags": []
          },
          "execution_count": 9
        }
      ]
    },
    {
      "cell_type": "code",
      "metadata": {
        "id": "PhVN0k6Ejqrj",
        "colab_type": "code",
        "colab": {
          "base_uri": "https://localhost:8080/",
          "height": 35
        },
        "outputId": "c56e7ca7-cd2a-4bd7-c17e-fe4d43fa83e9"
      },
      "source": [
        "df['RainTomorrow'].nunique()"
      ],
      "execution_count": 10,
      "outputs": [
        {
          "output_type": "execute_result",
          "data": {
            "text/plain": [
              "2"
            ]
          },
          "metadata": {
            "tags": []
          },
          "execution_count": 10
        }
      ]
    },
    {
      "cell_type": "code",
      "metadata": {
        "id": "t8cUdL65jrR0",
        "colab_type": "code",
        "colab": {
          "base_uri": "https://localhost:8080/",
          "height": 69
        },
        "outputId": "ad66aeb7-800a-41b1-fee5-802eb4f94432"
      },
      "source": [
        "s = df['RainTomorrow'].value_counts()\n",
        "print(s)"
      ],
      "execution_count": 11,
      "outputs": [
        {
          "output_type": "stream",
          "text": [
            "0    109586\n",
            "1     31201\n",
            "Name: RainTomorrow, dtype: int64\n"
          ],
          "name": "stdout"
        }
      ]
    },
    {
      "cell_type": "code",
      "metadata": {
        "id": "rK1Wlk4sjq-T",
        "colab_type": "code",
        "colab": {
          "base_uri": "https://localhost:8080/",
          "height": 279
        },
        "outputId": "81f26d36-2214-4327-f5fb-4a805b3b7048"
      },
      "source": [
        "graph = sns.countplot(x=\"RainTomorrow\", data=df, palette=\"Set1\")\n",
        "plt.show()"
      ],
      "execution_count": 12,
      "outputs": [
        {
          "output_type": "display_data",
          "data": {
            "image/png": "[encoded data removed]",
            "text/plain": [
              "<Figure size 432x288 with 1 Axes>"
            ]
          },
          "metadata": {
            "tags": [],
            "needs_background": "light"
          }
        }
      ]
    },
    {
      "cell_type": "code",
      "metadata": {
        "id": "i0l2_e6Su9Kf",
        "colab_type": "code",
        "colab": {
          "base_uri": "https://localhost:8080/",
          "height": 451
        },
        "outputId": "fd100c97-1953-43d7-d879-2d0b1b43e485"
      },
      "source": [
        "df.info()"
      ],
      "execution_count": 13,
      "outputs": [
        {
          "output_type": "stream",
          "text": [
            "<class 'pandas.core.frame.DataFrame'>\n",
            "Int64Index: 140787 entries, 0 to 142192\n",
            "Data columns (total 18 columns):\n",
            " #   Column         Non-Null Count   Dtype  \n",
            "---  ------         --------------   -----  \n",
            " 0   Date           140787 non-null  object \n",
            " 1   MinTemp        140787 non-null  float64\n",
            " 2   MaxTemp        140787 non-null  float64\n",
            " 3   Rainfall       140787 non-null  float64\n",
            " 4   WindGustDir    140787 non-null  object \n",
            " 5   WindGustSpeed  140787 non-null  float64\n",
            " 6   WindDir9am     140787 non-null  object \n",
            " 7   WindDir3pm     140787 non-null  object \n",
            " 8   WindSpeed9am   140787 non-null  float64\n",
            " 9   WindSpeed3pm   140787 non-null  float64\n",
            " 10  Humidity9am    140787 non-null  float64\n",
            " 11  Humidity3pm    140787 non-null  float64\n",
            " 12  Pressure9am    140787 non-null  float64\n",
            " 13  Pressure3pm    140787 non-null  float64\n",
            " 14  Temp9am        140787 non-null  float64\n",
            " 15  Temp3pm        140787 non-null  float64\n",
            " 16  RainToday      140787 non-null  int64  \n",
            " 17  RainTomorrow   140787 non-null  int64  \n",
            "dtypes: float64(12), int64(2), object(4)\n",
            "memory usage: 25.4+ MB\n"
          ],
          "name": "stdout"
        }
      ]
    },
    {
      "cell_type": "code",
      "metadata": {
        "id": "h-Rv0kVqvzMN",
        "colab_type": "code",
        "colab": {
          "base_uri": "https://localhost:8080/",
          "height": 415
        },
        "outputId": "4053d038-aa83-4f69-fd9f-34e44de4a72d"
      },
      "source": [
        "obj_cols = df.select_dtypes(\"object\")\n",
        "obj_cols"
      ],
      "execution_count": 14,
      "outputs": [
        {
          "output_type": "execute_result",
          "data": {
            "text/html": [
              "<div>\n",
              "<style scoped>\n",
              "    .dataframe tbody tr th:only-of-type {\n",
              "        vertical-align: middle;\n",
              "    }\n",
              "\n",
              "    .dataframe tbody tr th {\n",
              "        vertical-align: top;\n",
              "    }\n",
              "\n",
              "    .dataframe thead th {\n",
              "        text-align: right;\n",
              "    }\n",
              "</style>\n",
              "<table border=\"1\" class=\"dataframe\">\n",
              "  <thead>\n",
              "    <tr style=\"text-align: right;\">\n",
              "      <th></th>\n",
              "      <th>Date</th>\n",
              "      <th>WindGustDir</th>\n",
              "      <th>WindDir9am</th>\n",
              "      <th>WindDir3pm</th>\n",
              "    </tr>\n",
              "  </thead>\n",
              "  <tbody>\n",
              "    <tr>\n",
              "      <th>0</th>\n",
              "      <td>2008-12-01</td>\n",
              "      <td>W</td>\n",
              "      <td>W</td>\n",
              "      <td>WNW</td>\n",
              "    </tr>\n",
              "    <tr>\n",
              "      <th>1</th>\n",
              "      <td>2008-12-02</td>\n",
              "      <td>WNW</td>\n",
              "      <td>NNW</td>\n",
              "      <td>WSW</td>\n",
              "    </tr>\n",
              "    <tr>\n",
              "      <th>2</th>\n",
              "      <td>2008-12-03</td>\n",
              "      <td>WSW</td>\n",
              "      <td>W</td>\n",
              "      <td>WSW</td>\n",
              "    </tr>\n",
              "    <tr>\n",
              "      <th>3</th>\n",
              "      <td>2008-12-04</td>\n",
              "      <td>NE</td>\n",
              "      <td>SE</td>\n",
              "      <td>E</td>\n",
              "    </tr>\n",
              "    <tr>\n",
              "      <th>4</th>\n",
              "      <td>2008-12-05</td>\n",
              "      <td>W</td>\n",
              "      <td>ENE</td>\n",
              "      <td>NW</td>\n",
              "    </tr>\n",
              "    <tr>\n",
              "      <th>...</th>\n",
              "      <td>...</td>\n",
              "      <td>...</td>\n",
              "      <td>...</td>\n",
              "      <td>...</td>\n",
              "    </tr>\n",
              "    <tr>\n",
              "      <th>142188</th>\n",
              "      <td>2017-06-20</td>\n",
              "      <td>E</td>\n",
              "      <td>ESE</td>\n",
              "      <td>E</td>\n",
              "    </tr>\n",
              "    <tr>\n",
              "      <th>142189</th>\n",
              "      <td>2017-06-21</td>\n",
              "      <td>E</td>\n",
              "      <td>SE</td>\n",
              "      <td>ENE</td>\n",
              "    </tr>\n",
              "    <tr>\n",
              "      <th>142190</th>\n",
              "      <td>2017-06-22</td>\n",
              "      <td>NNW</td>\n",
              "      <td>SE</td>\n",
              "      <td>N</td>\n",
              "    </tr>\n",
              "    <tr>\n",
              "      <th>142191</th>\n",
              "      <td>2017-06-23</td>\n",
              "      <td>N</td>\n",
              "      <td>SE</td>\n",
              "      <td>WNW</td>\n",
              "    </tr>\n",
              "    <tr>\n",
              "      <th>142192</th>\n",
              "      <td>2017-06-24</td>\n",
              "      <td>SE</td>\n",
              "      <td>SSE</td>\n",
              "      <td>N</td>\n",
              "    </tr>\n",
              "  </tbody>\n",
              "</table>\n",
              "<p>140787 rows × 4 columns</p>\n",
              "</div>"
            ],
            "text/plain": [
              "              Date WindGustDir WindDir9am WindDir3pm\n",
              "0       2008-12-01           W          W        WNW\n",
              "1       2008-12-02         WNW        NNW        WSW\n",
              "2       2008-12-03         WSW          W        WSW\n",
              "3       2008-12-04          NE         SE          E\n",
              "4       2008-12-05           W        ENE         NW\n",
              "...            ...         ...        ...        ...\n",
              "142188  2017-06-20           E        ESE          E\n",
              "142189  2017-06-21           E         SE        ENE\n",
              "142190  2017-06-22         NNW         SE          N\n",
              "142191  2017-06-23           N         SE        WNW\n",
              "142192  2017-06-24          SE        SSE          N\n",
              "\n",
              "[140787 rows x 4 columns]"
            ]
          },
          "metadata": {
            "tags": []
          },
          "execution_count": 14
        }
      ]
    },
    {
      "cell_type": "code",
      "metadata": {
        "id": "dkWwefasv1bp",
        "colab_type": "code",
        "colab": {}
      },
      "source": [
        "obj_cols = df.select_dtypes(\"object\")\n",
        "\n",
        "\n",
        "from sklearn.preprocessing import LabelEncoder\n",
        "le = LabelEncoder()\n",
        "\n",
        "for col in obj_cols.columns:\n",
        "    df[col] = le.fit_transform(df[col])"
      ],
      "execution_count": 15,
      "outputs": []
    },
    {
      "cell_type": "code",
      "metadata": {
        "id": "bF7NFG5nyZay",
        "colab_type": "code",
        "colab": {
          "base_uri": "https://localhost:8080/",
          "height": 222
        },
        "outputId": "bac16138-9149-480b-f593-94de6bb1362d"
      },
      "source": [
        "df.head()"
      ],
      "execution_count": 16,
      "outputs": [
        {
          "output_type": "execute_result",
          "data": {
            "text/html": [
              "<div>\n",
              "<style scoped>\n",
              "    .dataframe tbody tr th:only-of-type {\n",
              "        vertical-align: middle;\n",
              "    }\n",
              "\n",
              "    .dataframe tbody tr th {\n",
              "        vertical-align: top;\n",
              "    }\n",
              "\n",
              "    .dataframe thead th {\n",
              "        text-align: right;\n",
              "    }\n",
              "</style>\n",
              "<table border=\"1\" class=\"dataframe\">\n",
              "  <thead>\n",
              "    <tr style=\"text-align: right;\">\n",
              "      <th></th>\n",
              "      <th>Date</th>\n",
              "      <th>MinTemp</th>\n",
              "      <th>MaxTemp</th>\n",
              "      <th>Rainfall</th>\n",
              "      <th>WindGustDir</th>\n",
              "      <th>WindGustSpeed</th>\n",
              "      <th>WindDir9am</th>\n",
              "      <th>WindDir3pm</th>\n",
              "      <th>WindSpeed9am</th>\n",
              "      <th>WindSpeed3pm</th>\n",
              "      <th>Humidity9am</th>\n",
              "      <th>Humidity3pm</th>\n",
              "      <th>Pressure9am</th>\n",
              "      <th>Pressure3pm</th>\n",
              "      <th>Temp9am</th>\n",
              "      <th>Temp3pm</th>\n",
              "      <th>RainToday</th>\n",
              "      <th>RainTomorrow</th>\n",
              "    </tr>\n",
              "  </thead>\n",
              "  <tbody>\n",
              "    <tr>\n",
              "      <th>0</th>\n",
              "      <td>396</td>\n",
              "      <td>13.4</td>\n",
              "      <td>22.9</td>\n",
              "      <td>0.6</td>\n",
              "      <td>13</td>\n",
              "      <td>44.0</td>\n",
              "      <td>13</td>\n",
              "      <td>14</td>\n",
              "      <td>20.0</td>\n",
              "      <td>24.0</td>\n",
              "      <td>71.0</td>\n",
              "      <td>22.0</td>\n",
              "      <td>1007.7</td>\n",
              "      <td>1007.1</td>\n",
              "      <td>16.9</td>\n",
              "      <td>21.8</td>\n",
              "      <td>0</td>\n",
              "      <td>0</td>\n",
              "    </tr>\n",
              "    <tr>\n",
              "      <th>1</th>\n",
              "      <td>397</td>\n",
              "      <td>7.4</td>\n",
              "      <td>25.1</td>\n",
              "      <td>0.0</td>\n",
              "      <td>14</td>\n",
              "      <td>44.0</td>\n",
              "      <td>6</td>\n",
              "      <td>15</td>\n",
              "      <td>4.0</td>\n",
              "      <td>22.0</td>\n",
              "      <td>44.0</td>\n",
              "      <td>25.0</td>\n",
              "      <td>1010.6</td>\n",
              "      <td>1007.8</td>\n",
              "      <td>17.2</td>\n",
              "      <td>24.3</td>\n",
              "      <td>0</td>\n",
              "      <td>0</td>\n",
              "    </tr>\n",
              "    <tr>\n",
              "      <th>2</th>\n",
              "      <td>398</td>\n",
              "      <td>12.9</td>\n",
              "      <td>25.7</td>\n",
              "      <td>0.0</td>\n",
              "      <td>15</td>\n",
              "      <td>46.0</td>\n",
              "      <td>13</td>\n",
              "      <td>15</td>\n",
              "      <td>19.0</td>\n",
              "      <td>26.0</td>\n",
              "      <td>38.0</td>\n",
              "      <td>30.0</td>\n",
              "      <td>1007.6</td>\n",
              "      <td>1008.7</td>\n",
              "      <td>21.0</td>\n",
              "      <td>23.2</td>\n",
              "      <td>0</td>\n",
              "      <td>0</td>\n",
              "    </tr>\n",
              "    <tr>\n",
              "      <th>3</th>\n",
              "      <td>399</td>\n",
              "      <td>9.2</td>\n",
              "      <td>28.0</td>\n",
              "      <td>0.0</td>\n",
              "      <td>4</td>\n",
              "      <td>24.0</td>\n",
              "      <td>9</td>\n",
              "      <td>0</td>\n",
              "      <td>11.0</td>\n",
              "      <td>9.0</td>\n",
              "      <td>45.0</td>\n",
              "      <td>16.0</td>\n",
              "      <td>1017.6</td>\n",
              "      <td>1012.8</td>\n",
              "      <td>18.1</td>\n",
              "      <td>26.5</td>\n",
              "      <td>0</td>\n",
              "      <td>0</td>\n",
              "    </tr>\n",
              "    <tr>\n",
              "      <th>4</th>\n",
              "      <td>400</td>\n",
              "      <td>17.5</td>\n",
              "      <td>32.3</td>\n",
              "      <td>1.0</td>\n",
              "      <td>13</td>\n",
              "      <td>41.0</td>\n",
              "      <td>1</td>\n",
              "      <td>7</td>\n",
              "      <td>7.0</td>\n",
              "      <td>20.0</td>\n",
              "      <td>82.0</td>\n",
              "      <td>33.0</td>\n",
              "      <td>1010.8</td>\n",
              "      <td>1006.0</td>\n",
              "      <td>17.8</td>\n",
              "      <td>29.7</td>\n",
              "      <td>0</td>\n",
              "      <td>0</td>\n",
              "    </tr>\n",
              "  </tbody>\n",
              "</table>\n",
              "</div>"
            ],
            "text/plain": [
              "   Date  MinTemp  MaxTemp  Rainfall  ...  Temp9am  Temp3pm  RainToday  RainTomorrow\n",
              "0   396     13.4     22.9       0.6  ...     16.9     21.8          0             0\n",
              "1   397      7.4     25.1       0.0  ...     17.2     24.3          0             0\n",
              "2   398     12.9     25.7       0.0  ...     21.0     23.2          0             0\n",
              "3   399      9.2     28.0       0.0  ...     18.1     26.5          0             0\n",
              "4   400     17.5     32.3       1.0  ...     17.8     29.7          0             0\n",
              "\n",
              "[5 rows x 18 columns]"
            ]
          },
          "metadata": {
            "tags": []
          },
          "execution_count": 16
        }
      ]
    },
    {
      "cell_type": "code",
      "metadata": {
        "id": "-cQwuLajy15B",
        "colab_type": "code",
        "colab": {}
      },
      "source": [
        "from sklearn.neighbors import KNeighborsClassifier\n",
        "from sklearn.ensemble import RandomForestClassifier\n",
        "from sklearn.tree import DecisionTreeClassifier"
      ],
      "execution_count": 17,
      "outputs": []
    },
    {
      "cell_type": "code",
      "metadata": {
        "id": "LQq1qyySzIa7",
        "colab_type": "code",
        "colab": {}
      },
      "source": [
        "from sklearn.metrics import confusion_matrix, accuracy_score, classification_report\n",
        "from sklearn.model_selection import train_test_split"
      ],
      "execution_count": 18,
      "outputs": []
    },
    {
      "cell_type": "code",
      "metadata": {
        "id": "bPh1zBDezPlo",
        "colab_type": "code",
        "colab": {}
      },
      "source": [
        "x = df.iloc[:,1:17].values\n",
        "y = df['RainTomorrow'].values"
      ],
      "execution_count": 19,
      "outputs": []
    },
    {
      "cell_type": "code",
      "metadata": {
        "id": "NSCKULR5zp_w",
        "colab_type": "code",
        "colab": {
          "base_uri": "https://localhost:8080/",
          "height": 87
        },
        "outputId": "0d264a60-b438-46b1-e2ed-5c9ba8dba584"
      },
      "source": [
        "# K-Nearest Neighbours\n",
        "t0 = time.time()\n",
        "x_train, x_test, y_train, y_test = train_test_split(x, y, test_size=0.2, random_state=42)\n",
        "model = KNeighborsClassifier()\n",
        "model.fit(x_train, y_train)\n",
        "y_pred = model.predict(x_test)\n",
        "acc = accuracy_score(y_test, y_pred)\n",
        "t1 = time.time()\n",
        "print('y_pred: ', y_pred)\n",
        "print('y_test: ',y_test)\n",
        "print('Accuracy :',acc*100)\n",
        "print('Time taken :' ,t1-t0)"
      ],
      "execution_count": 20,
      "outputs": [
        {
          "output_type": "stream",
          "text": [
            "y_pred:  [0 0 0 ... 0 1 0]\n",
            "y_test:  [0 1 0 ... 0 1 0]\n",
            "Accuracy : 83.57837914624618\n",
            "Time taken : 32.47005891799927\n"
          ],
          "name": "stdout"
        }
      ]
    },
    {
      "cell_type": "code",
      "metadata": {
        "id": "SMhsB7yp05AF",
        "colab_type": "code",
        "colab": {
          "base_uri": "https://localhost:8080/",
          "height": 173
        },
        "outputId": "5af44d3d-6e95-4824-83e1-fb471c6b2328"
      },
      "source": [
        "print(classification_report(y_test, y_pred, target_names=['Wont Rain', 'Will Rain'])) "
      ],
      "execution_count": 21,
      "outputs": [
        {
          "output_type": "stream",
          "text": [
            "              precision    recall  f1-score   support\n",
            "\n",
            "   Wont Rain       0.86      0.94      0.90     21897\n",
            "   Will Rain       0.68      0.49      0.57      6261\n",
            "\n",
            "    accuracy                           0.84     28158\n",
            "   macro avg       0.77      0.71      0.73     28158\n",
            "weighted avg       0.82      0.84      0.83     28158\n",
            "\n"
          ],
          "name": "stdout"
        }
      ]
    },
    {
      "cell_type": "code",
      "metadata": {
        "id": "ZjENDtJ77GDP",
        "colab_type": "code",
        "colab": {
          "base_uri": "https://localhost:8080/",
          "height": 295
        },
        "outputId": "dac011e2-5d40-4352-d2ae-88e8369b134d"
      },
      "source": [
        "# Confusion matrix for kNN \n",
        "mat = confusion_matrix(y_test, y_pred)\n",
        "sns.heatmap(mat.T, square=True, annot=True, fmt='d', cbar=True)\n",
        "plt.title('Confusion Matrix for kNN')\n",
        "plt.xlabel('Actual Value')\n",
        "plt.ylabel('Predicted Value');\n",
        "plt.show()"
      ],
      "execution_count": 22,
      "outputs": [
        {
          "output_type": "display_data",
          "data": {
            "image/png": "[encoded data removed]",
            "text/plain": [
              "<Figure size 432x288 with 2 Axes>"
            ]
          },
          "metadata": {
            "tags": [],
            "needs_background": "light"
          }
        }
      ]
    },
    {
      "cell_type": "code",
      "metadata": {
        "id": "QXYSFAoo1Bt_",
        "colab_type": "code",
        "colab": {
          "base_uri": "https://localhost:8080/",
          "height": 208
        },
        "outputId": "6bbc99f7-4285-48f9-e7de-7e44b091b51f"
      },
      "source": [
        "# Random Forest Classifier\n",
        "t2 = time.time()\n",
        "x_train, x_test, y_train, y_test = train_test_split(x, y, test_size=0.2, random_state=42)\n",
        "model_2 = RandomForestClassifier()\n",
        "model_2.fit(x_train, y_train)\n",
        "y_pred2 = model_2.predict(x_test)\n",
        "acc2 = accuracy_score(y_test, y_pred2)\n",
        "t3 = time.time()\n",
        "print('Accuracy :',acc*100)\n",
        "print('Time taken :' ,t3-t2)\n",
        "print(classification_report(y_test, y_pred2, target_names=['Wont Rain', 'Will Rain'])) "
      ],
      "execution_count": 25,
      "outputs": [
        {
          "output_type": "stream",
          "text": [
            "Accuracy : 83.57837914624618\n",
            "Time taken : 31.62593102455139\n",
            "              precision    recall  f1-score   support\n",
            "\n",
            "   Wont Rain       0.87      0.95      0.91     21897\n",
            "   Will Rain       0.75      0.48      0.59      6261\n",
            "\n",
            "    accuracy                           0.85     28158\n",
            "   macro avg       0.81      0.72      0.75     28158\n",
            "weighted avg       0.84      0.85      0.84     28158\n",
            "\n"
          ],
          "name": "stdout"
        }
      ]
    },
    {
      "cell_type": "code",
      "metadata": {
        "id": "FcNto0WR5X8r",
        "colab_type": "code",
        "colab": {
          "base_uri": "https://localhost:8080/",
          "height": 208
        },
        "outputId": "08ecaa5e-85d1-4ee0-c7b0-2dc5b578093c"
      },
      "source": [
        "# Decision Tree\n",
        "t4 = time.time()\n",
        "x_train, x_test, y_train, y_test = train_test_split(x, y, test_size=0.2, random_state=42)\n",
        "model_3 = DecisionTreeClassifier()\n",
        "model_3.fit(x_train, y_train)\n",
        "y_pred3 = model_3.predict(x_test)\n",
        "acc3 = accuracy_score(y_test, y_pred3)\n",
        "t5 = time.time()\n",
        "print('Accuracy :',acc*100)\n",
        "print('Time taken :' ,t5-t4)\n",
        "print(classification_report(y_test, y_pred3, target_names=['Wont Rain', 'Will Rain'])) "
      ],
      "execution_count": 26,
      "outputs": [
        {
          "output_type": "stream",
          "text": [
            "Accuracy : 83.57837914624618\n",
            "Time taken : 1.7196786403656006\n",
            "              precision    recall  f1-score   support\n",
            "\n",
            "   Wont Rain       0.86      0.85      0.86     21897\n",
            "   Will Rain       0.50      0.51      0.51      6261\n",
            "\n",
            "    accuracy                           0.78     28158\n",
            "   macro avg       0.68      0.68      0.68     28158\n",
            "weighted avg       0.78      0.78      0.78     28158\n",
            "\n"
          ],
          "name": "stdout"
        }
      ]
    },
    {
      "cell_type": "markdown",
      "metadata": {
        "id": "2ed-WGaMNfTi",
        "colab_type": "text"
      },
      "source": [
        "** Conclusion: **\n",
        "1. All of the above 3 methods give the same accuracy for the dataset. \n",
        "2. The confusion matrix shows the false +ves and -ves.\n",
        "3. For the three models used, the computation time taken by each is:- 32.47s for kNN, 31.62s for Random Forest and 1.719s for Decision Tree. Hence, **Decision Tree is the fastest** and is the preferred model for the given dataset. "
      ]
    },
    {
      "cell_type": "code",
      "metadata": {
        "id": "qvxEk1LZOZMp",
        "colab_type": "code",
        "colab": {}
      },
      "source": [
        "# ----------------End of Project--------------------"
      ],
      "execution_count": 27,
      "outputs": []
    }
  ]
}